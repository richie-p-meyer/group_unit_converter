{
 "cells": [
  {
   "cell_type": "code",
   "execution_count": 2,
   "id": "35882f31",
   "metadata": {},
   "outputs": [
    {
     "name": "stdout",
     "output_type": "stream",
     "text": [
      "how much5\n",
      "1.968503937007874\n"
     ]
    }
   ],
   "source": [
    "def length(meas):\n",
    "    return meas / 2.54\n",
    "\n",
    "ruler = int(input(\"how much\"))\n",
    "\n",
    "print(length(ruler))\n"
   ]
  },
  {
   "cell_type": "code",
   "execution_count": 37,
   "id": "8b5c9ca4",
   "metadata": {},
   "outputs": [
    {
     "name": "stdout",
     "output_type": "stream",
     "text": [
      "Unit to convert from: \n",
      "(cm, in, miles, km, lb, fl oz)\n",
      "fl oz\n",
      "What quantity?\n",
      "23\n",
      "23.0 fluid ounces is 680.11 milliliters\n"
     ]
    }
   ],
   "source": [
    "print('woot woooot')\n",
    "\n",
    "unit = input('Unit to convert from: \\n(cm, in, miles, km, lb, fl oz)\\n')\n",
    "quantity = float(input('What quantity?\\n'))\n",
    "\n",
    "def length(unit, quantity):  \n",
    "    if unit == 'cm':\n",
    "        return quantity / 2.54\n",
    "    elif unit == 'in':\n",
    "        return quantity * 2.54\n",
    "    elif unit == 'miles':\n",
    "        return quantity * 1.6\n",
    "    elif unit == 'km':\n",
    "        return quantity * .62\n",
    "    \n",
    "def weight(unit, quantity):\n",
    "    if unit == 'lb':\n",
    "        return quantity / 2.2\n",
    "    else: \n",
    "        return quantity * 2.2\n",
    "    \n",
    "def volume(unit, quantity):\n",
    "    if unit == \"fl oz\":\n",
    "        return str(quantity) + ' fluid ounces is ' + str(quantity * 29.57) + ' milliliters'\n",
    "    else:\n",
    "        return str(quantity) + ' milliliters ' + str(quantity / 29.57) + ' fluid ounces'\n",
    "    \n",
    "if unit in ['cm', 'in', 'miles', 'km']:\n",
    "    print(f'{quantity} {unit} is {length(unit,quantity)}')\n",
    "\n",
    "elif unit in ['lb','kg']:\n",
    "    print(weight(unit, quantity))\n",
    "elif unit in ['ml', 'fl oz']:\n",
    "    print(volume(unit, quantity))\n"
   ]
  },
  {
   "cell_type": "code",
   "execution_count": null,
   "id": "62391bdc",
   "metadata": {},
   "outputs": [],
   "source": []
  },
  {
   "cell_type": "code",
   "execution_count": null,
   "id": "a012a3bc",
   "metadata": {},
   "outputs": [],
   "source": [
    "print('hello world')\n"
   ]
  }
 ],
 "metadata": {
  "kernelspec": {
   "display_name": "Python 3 (ipykernel)",
   "language": "python",
   "name": "python3"
  },
  "language_info": {
   "codemirror_mode": {
    "name": "ipython",
    "version": 3
   },
   "file_extension": ".py",
   "mimetype": "text/x-python",
   "name": "python",
   "nbconvert_exporter": "python",
   "pygments_lexer": "ipython3",
   "version": "3.9.13"
  }
 },
 "nbformat": 4,
 "nbformat_minor": 5
}
