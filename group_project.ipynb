{
 "cells": [
  {
   "cell_type": "code",
   "execution_count": 37,
   "id": "8b5c9ca4",
   "metadata": {},
   "outputs": [
    {
     "name": "stdout",
     "output_type": "stream",
     "text": [
      "Unit to convert from: \n",
      "(cm, in, miles, km, lb, fl oz)\n",
      "fl oz\n",
      "What quantity?\n",
      "23\n",
      "23.0 fluid ounces is 680.11 milliliters\n"
     ]
    }
   ],
   "source": [
    "def length(unit, quantity):  \n",
    "    if unit == 'cm':\n",
    "        return (f'{quantity} cm is {quantity / 2.54} in')\n",
    "    elif unit == 'in':\n",
    "        return (f'{quantity} in is {quantity * 2.54} cm')\n",
    "    elif unit == 'miles':\n",
    "        return (f'{quantity} miles is {quantity * 1.6} km')\n",
    "    elif unit == 'km':\n",
    "        return (f'{quantity} km is  {quantity * .62} miles')\n",
    "    \n",
    "def weight(unit, quantity):\n",
    "    if unit == 'lb':\n",
    "        return (f'{quantity} lb is {quantity / 2.2} kg')\n",
    "    else: \n",
    "        return (f'{quantity} kg is {quantity * 2.2} lb')\n",
    "    \n",
    "def volume(unit, quantity):\n",
    "    if unit == \"fl oz\":\n",
    "        return (f'{quantity} fluid ounces is {quantity * 29.57} milliliters')\n",
    "    else:\n",
    "        return (f'{quantity} milliliters {quantity / 29.57} fluid ounces')\n",
    "\n",
    "    \n",
    "def unit_converter():\n",
    "    print('Welcome to Unit Converter')\n",
    "    unit = input('Unit to convert from: \\n(cm, in, miles, km, lb,kg, fl oz, ml)\\n')\n",
    "    quantity = float(input('What quantity?\\n'))\n",
    "    \n",
    "    if unit in ['cm', 'in', 'miles', 'km']:\n",
    "        print(f'{quantity} {unit} is {length(unit,quantity)}')\n",
    "    elif unit in ['lb','kg']:\n",
    "        print(f'{quantity} {unit} is {weight(unit, quantity)}')\n",
    "    elif unit in ['ml', 'fl oz']:\n",
    "        print(f'{quantity} {unit} is {volume(unit, quantity)}')"
   ]
  },
  {
   "cell_type": "code",
   "execution_count": null,
   "id": "62391bdc",
   "metadata": {},
   "outputs": [],
   "source": []
  }
 ],
 "metadata": {
  "kernelspec": {
   "display_name": "Python 3 (ipykernel)",
   "language": "python",
   "name": "python3"
  },
  "language_info": {
   "codemirror_mode": {
    "name": "ipython",
    "version": 3
   },
   "file_extension": ".py",
   "mimetype": "text/x-python",
   "name": "python",
   "nbconvert_exporter": "python",
   "pygments_lexer": "ipython3",
   "version": "3.9.13"
  }
 },
 "nbformat": 4,
 "nbformat_minor": 5
}
